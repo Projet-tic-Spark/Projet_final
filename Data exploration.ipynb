{
 "cells": [
  {
   "cell_type": "code",
   "execution_count": 2,
   "metadata": {},
   "outputs": [],
   "source": [
    "import os\n",
    "import sys\n",
    "\n",
    "import findspark\n",
    "findspark.init()\n",
    "\n",
    "from pyspark import SparkContext\n",
    "\n",
    "sc = SparkContext(master=\"local[4]\")"
   ]
  },
  {
   "cell_type": "code",
   "execution_count": 3,
   "metadata": {},
   "outputs": [],
   "source": [
    "import pandas as pd"
   ]
  },
  {
   "cell_type": "code",
   "execution_count": 4,
   "metadata": {},
   "outputs": [],
   "source": [
    "from pyspark import sql"
   ]
  },
  {
   "cell_type": "code",
   "execution_count": 6,
   "metadata": {},
   "outputs": [],
   "source": [
    "df1 = pd.read_csv(\"C:/Data-Attraper le flamand rose/user-session.csv\")"
   ]
  },
  {
   "cell_type": "code",
   "execution_count": 7,
   "metadata": {},
   "outputs": [
    {
     "data": {
      "text/html": [
       "<div>\n",
       "<style scoped>\n",
       "    .dataframe tbody tr th:only-of-type {\n",
       "        vertical-align: middle;\n",
       "    }\n",
       "\n",
       "    .dataframe tbody tr th {\n",
       "        vertical-align: top;\n",
       "    }\n",
       "\n",
       "    .dataframe thead th {\n",
       "        text-align: right;\n",
       "    }\n",
       "</style>\n",
       "<table border=\"1\" class=\"dataframe\">\n",
       "  <thead>\n",
       "    <tr style=\"text-align: right;\">\n",
       "      <th></th>\n",
       "      <th>timestamp</th>\n",
       "      <th>userSessionId</th>\n",
       "      <th>userId</th>\n",
       "      <th>teamId</th>\n",
       "      <th>assignmentId</th>\n",
       "      <th>sessionType</th>\n",
       "      <th>teamLevel</th>\n",
       "      <th>platformType</th>\n",
       "    </tr>\n",
       "  </thead>\n",
       "  <tbody>\n",
       "    <tr>\n",
       "      <th>0</th>\n",
       "      <td>2016-05-26 14:47:30</td>\n",
       "      <td>5675</td>\n",
       "      <td>170</td>\n",
       "      <td>90</td>\n",
       "      <td>5423</td>\n",
       "      <td>start</td>\n",
       "      <td>1</td>\n",
       "      <td>iphone</td>\n",
       "    </tr>\n",
       "    <tr>\n",
       "      <th>1</th>\n",
       "      <td>2016-05-27 00:06:54</td>\n",
       "      <td>5675</td>\n",
       "      <td>170</td>\n",
       "      <td>90</td>\n",
       "      <td>5423</td>\n",
       "      <td>end</td>\n",
       "      <td>1</td>\n",
       "      <td>iphone</td>\n",
       "    </tr>\n",
       "    <tr>\n",
       "      <th>2</th>\n",
       "      <td>2016-05-26 14:43:09</td>\n",
       "      <td>5795</td>\n",
       "      <td>835</td>\n",
       "      <td>39</td>\n",
       "      <td>5300</td>\n",
       "      <td>start</td>\n",
       "      <td>1</td>\n",
       "      <td>android</td>\n",
       "    </tr>\n",
       "    <tr>\n",
       "      <th>3</th>\n",
       "      <td>2016-05-27 08:06:54</td>\n",
       "      <td>5795</td>\n",
       "      <td>835</td>\n",
       "      <td>39</td>\n",
       "      <td>5300</td>\n",
       "      <td>end</td>\n",
       "      <td>1</td>\n",
       "      <td>android</td>\n",
       "    </tr>\n",
       "    <tr>\n",
       "      <th>4</th>\n",
       "      <td>2016-05-26 14:47:20</td>\n",
       "      <td>5833</td>\n",
       "      <td>624</td>\n",
       "      <td>2</td>\n",
       "      <td>5529</td>\n",
       "      <td>start</td>\n",
       "      <td>1</td>\n",
       "      <td>iphone</td>\n",
       "    </tr>\n",
       "    <tr>\n",
       "      <th>...</th>\n",
       "      <td>...</td>\n",
       "      <td>...</td>\n",
       "      <td>...</td>\n",
       "      <td>...</td>\n",
       "      <td>...</td>\n",
       "      <td>...</td>\n",
       "      <td>...</td>\n",
       "      <td>...</td>\n",
       "    </tr>\n",
       "    <tr>\n",
       "      <th>9245</th>\n",
       "      <td>2016-06-16 11:06:54</td>\n",
       "      <td>32496</td>\n",
       "      <td>1011</td>\n",
       "      <td>135</td>\n",
       "      <td>17708</td>\n",
       "      <td>end</td>\n",
       "      <td>6</td>\n",
       "      <td>android</td>\n",
       "    </tr>\n",
       "    <tr>\n",
       "      <th>9246</th>\n",
       "      <td>2016-06-13 09:06:54</td>\n",
       "      <td>33308</td>\n",
       "      <td>1228</td>\n",
       "      <td>135</td>\n",
       "      <td>32502</td>\n",
       "      <td>start</td>\n",
       "      <td>6</td>\n",
       "      <td>windows</td>\n",
       "    </tr>\n",
       "    <tr>\n",
       "      <th>9247</th>\n",
       "      <td>2016-06-16 11:06:54</td>\n",
       "      <td>33308</td>\n",
       "      <td>1228</td>\n",
       "      <td>135</td>\n",
       "      <td>32502</td>\n",
       "      <td>end</td>\n",
       "      <td>6</td>\n",
       "      <td>windows</td>\n",
       "    </tr>\n",
       "    <tr>\n",
       "      <th>9248</th>\n",
       "      <td>2016-06-15 17:06:54</td>\n",
       "      <td>38321</td>\n",
       "      <td>981</td>\n",
       "      <td>135</td>\n",
       "      <td>36067</td>\n",
       "      <td>start</td>\n",
       "      <td>6</td>\n",
       "      <td>iphone</td>\n",
       "    </tr>\n",
       "    <tr>\n",
       "      <th>9249</th>\n",
       "      <td>2016-06-16 11:06:54</td>\n",
       "      <td>38321</td>\n",
       "      <td>981</td>\n",
       "      <td>135</td>\n",
       "      <td>36067</td>\n",
       "      <td>end</td>\n",
       "      <td>6</td>\n",
       "      <td>iphone</td>\n",
       "    </tr>\n",
       "  </tbody>\n",
       "</table>\n",
       "<p>9250 rows × 8 columns</p>\n",
       "</div>"
      ],
      "text/plain": [
       "                timestamp  userSessionId  userId  teamId  assignmentId  \\\n",
       "0     2016-05-26 14:47:30           5675     170      90          5423   \n",
       "1     2016-05-27 00:06:54           5675     170      90          5423   \n",
       "2     2016-05-26 14:43:09           5795     835      39          5300   \n",
       "3     2016-05-27 08:06:54           5795     835      39          5300   \n",
       "4     2016-05-26 14:47:20           5833     624       2          5529   \n",
       "...                   ...            ...     ...     ...           ...   \n",
       "9245  2016-06-16 11:06:54          32496    1011     135         17708   \n",
       "9246  2016-06-13 09:06:54          33308    1228     135         32502   \n",
       "9247  2016-06-16 11:06:54          33308    1228     135         32502   \n",
       "9248  2016-06-15 17:06:54          38321     981     135         36067   \n",
       "9249  2016-06-16 11:06:54          38321     981     135         36067   \n",
       "\n",
       "     sessionType  teamLevel platformType  \n",
       "0          start          1       iphone  \n",
       "1            end          1       iphone  \n",
       "2          start          1      android  \n",
       "3            end          1      android  \n",
       "4          start          1       iphone  \n",
       "...          ...        ...          ...  \n",
       "9245         end          6      android  \n",
       "9246       start          6      windows  \n",
       "9247         end          6      windows  \n",
       "9248       start          6       iphone  \n",
       "9249         end          6       iphone  \n",
       "\n",
       "[9250 rows x 8 columns]"
      ]
     },
     "execution_count": 7,
     "metadata": {},
     "output_type": "execute_result"
    }
   ],
   "source": [
    "df1"
   ]
  },
  {
   "cell_type": "code",
   "execution_count": 10,
   "metadata": {},
   "outputs": [],
   "source": [
    "from pyspark.mllib.clustering import KMeans, KMeansModel\n",
    "from numpy import array"
   ]
  },
  {
   "cell_type": "code",
   "execution_count": 13,
   "metadata": {},
   "outputs": [
    {
     "data": {
      "text/plain": [
       "userId\n",
       "0        8\n",
       "1       14\n",
       "2       10\n",
       "6        2\n",
       "8        4\n",
       "        ..\n",
       "2383    14\n",
       "2384    14\n",
       "2386     4\n",
       "2387     4\n",
       "2389    14\n",
       "Name: userId, Length: 1093, dtype: int64"
      ]
     },
     "execution_count": 13,
     "metadata": {},
     "output_type": "execute_result"
    }
   ],
   "source": [
    " df1.groupby('userId').userId.count()"
   ]
  },
  {
   "cell_type": "code",
   "execution_count": 14,
   "metadata": {},
   "outputs": [],
   "source": [
    "df2 = df1.drop_duplicates(subset=['userId'])"
   ]
  },
  {
   "cell_type": "code",
   "execution_count": 15,
   "metadata": {},
   "outputs": [
    {
     "data": {
      "text/html": [
       "<div>\n",
       "<style scoped>\n",
       "    .dataframe tbody tr th:only-of-type {\n",
       "        vertical-align: middle;\n",
       "    }\n",
       "\n",
       "    .dataframe tbody tr th {\n",
       "        vertical-align: top;\n",
       "    }\n",
       "\n",
       "    .dataframe thead th {\n",
       "        text-align: right;\n",
       "    }\n",
       "</style>\n",
       "<table border=\"1\" class=\"dataframe\">\n",
       "  <thead>\n",
       "    <tr style=\"text-align: right;\">\n",
       "      <th></th>\n",
       "      <th>timestamp</th>\n",
       "      <th>userSessionId</th>\n",
       "      <th>userId</th>\n",
       "      <th>teamId</th>\n",
       "      <th>assignmentId</th>\n",
       "      <th>sessionType</th>\n",
       "      <th>teamLevel</th>\n",
       "      <th>platformType</th>\n",
       "    </tr>\n",
       "  </thead>\n",
       "  <tbody>\n",
       "    <tr>\n",
       "      <th>0</th>\n",
       "      <td>2016-05-26 14:47:30</td>\n",
       "      <td>5675</td>\n",
       "      <td>170</td>\n",
       "      <td>90</td>\n",
       "      <td>5423</td>\n",
       "      <td>start</td>\n",
       "      <td>1</td>\n",
       "      <td>iphone</td>\n",
       "    </tr>\n",
       "    <tr>\n",
       "      <th>2</th>\n",
       "      <td>2016-05-26 14:43:09</td>\n",
       "      <td>5795</td>\n",
       "      <td>835</td>\n",
       "      <td>39</td>\n",
       "      <td>5300</td>\n",
       "      <td>start</td>\n",
       "      <td>1</td>\n",
       "      <td>android</td>\n",
       "    </tr>\n",
       "    <tr>\n",
       "      <th>4</th>\n",
       "      <td>2016-05-26 14:47:20</td>\n",
       "      <td>5833</td>\n",
       "      <td>624</td>\n",
       "      <td>2</td>\n",
       "      <td>5529</td>\n",
       "      <td>start</td>\n",
       "      <td>1</td>\n",
       "      <td>iphone</td>\n",
       "    </tr>\n",
       "    <tr>\n",
       "      <th>6</th>\n",
       "      <td>2016-05-26 14:37:33</td>\n",
       "      <td>5877</td>\n",
       "      <td>514</td>\n",
       "      <td>2</td>\n",
       "      <td>5528</td>\n",
       "      <td>start</td>\n",
       "      <td>1</td>\n",
       "      <td>windows</td>\n",
       "    </tr>\n",
       "    <tr>\n",
       "      <th>8</th>\n",
       "      <td>2016-05-26 14:36:55</td>\n",
       "      <td>5902</td>\n",
       "      <td>2103</td>\n",
       "      <td>2</td>\n",
       "      <td>5527</td>\n",
       "      <td>start</td>\n",
       "      <td>1</td>\n",
       "      <td>iphone</td>\n",
       "    </tr>\n",
       "    <tr>\n",
       "      <th>...</th>\n",
       "      <td>...</td>\n",
       "      <td>...</td>\n",
       "      <td>...</td>\n",
       "      <td>...</td>\n",
       "      <td>...</td>\n",
       "      <td>...</td>\n",
       "      <td>...</td>\n",
       "      <td>...</td>\n",
       "    </tr>\n",
       "    <tr>\n",
       "      <th>9196</th>\n",
       "      <td>2016-06-15 22:06:54</td>\n",
       "      <td>38722</td>\n",
       "      <td>424</td>\n",
       "      <td>148</td>\n",
       "      <td>37948</td>\n",
       "      <td>start</td>\n",
       "      <td>5</td>\n",
       "      <td>android</td>\n",
       "    </tr>\n",
       "    <tr>\n",
       "      <th>9226</th>\n",
       "      <td>2016-06-12 20:36:54</td>\n",
       "      <td>32362</td>\n",
       "      <td>1299</td>\n",
       "      <td>110</td>\n",
       "      <td>31888</td>\n",
       "      <td>start</td>\n",
       "      <td>7</td>\n",
       "      <td>windows</td>\n",
       "    </tr>\n",
       "    <tr>\n",
       "      <th>9228</th>\n",
       "      <td>2016-06-13 11:36:54</td>\n",
       "      <td>33499</td>\n",
       "      <td>1564</td>\n",
       "      <td>110</td>\n",
       "      <td>33442</td>\n",
       "      <td>start</td>\n",
       "      <td>7</td>\n",
       "      <td>iphone</td>\n",
       "    </tr>\n",
       "    <tr>\n",
       "      <th>9246</th>\n",
       "      <td>2016-06-13 09:06:54</td>\n",
       "      <td>33308</td>\n",
       "      <td>1228</td>\n",
       "      <td>135</td>\n",
       "      <td>32502</td>\n",
       "      <td>start</td>\n",
       "      <td>6</td>\n",
       "      <td>windows</td>\n",
       "    </tr>\n",
       "    <tr>\n",
       "      <th>9248</th>\n",
       "      <td>2016-06-15 17:06:54</td>\n",
       "      <td>38321</td>\n",
       "      <td>981</td>\n",
       "      <td>135</td>\n",
       "      <td>36067</td>\n",
       "      <td>start</td>\n",
       "      <td>6</td>\n",
       "      <td>iphone</td>\n",
       "    </tr>\n",
       "  </tbody>\n",
       "</table>\n",
       "<p>1093 rows × 8 columns</p>\n",
       "</div>"
      ],
      "text/plain": [
       "                timestamp  userSessionId  userId  teamId  assignmentId  \\\n",
       "0     2016-05-26 14:47:30           5675     170      90          5423   \n",
       "2     2016-05-26 14:43:09           5795     835      39          5300   \n",
       "4     2016-05-26 14:47:20           5833     624       2          5529   \n",
       "6     2016-05-26 14:37:33           5877     514       2          5528   \n",
       "8     2016-05-26 14:36:55           5902    2103       2          5527   \n",
       "...                   ...            ...     ...     ...           ...   \n",
       "9196  2016-06-15 22:06:54          38722     424     148         37948   \n",
       "9226  2016-06-12 20:36:54          32362    1299     110         31888   \n",
       "9228  2016-06-13 11:36:54          33499    1564     110         33442   \n",
       "9246  2016-06-13 09:06:54          33308    1228     135         32502   \n",
       "9248  2016-06-15 17:06:54          38321     981     135         36067   \n",
       "\n",
       "     sessionType  teamLevel platformType  \n",
       "0          start          1       iphone  \n",
       "2          start          1      android  \n",
       "4          start          1       iphone  \n",
       "6          start          1      windows  \n",
       "8          start          1       iphone  \n",
       "...          ...        ...          ...  \n",
       "9196       start          5      android  \n",
       "9226       start          7      windows  \n",
       "9228       start          7       iphone  \n",
       "9246       start          6      windows  \n",
       "9248       start          6       iphone  \n",
       "\n",
       "[1093 rows x 8 columns]"
      ]
     },
     "execution_count": 15,
     "metadata": {},
     "output_type": "execute_result"
    }
   ],
   "source": [
    "df2"
   ]
  },
  {
   "cell_type": "code",
   "execution_count": 17,
   "metadata": {},
   "outputs": [],
   "source": [
    "UserPlatform=df2[['userId','platformType']]"
   ]
  },
  {
   "cell_type": "code",
   "execution_count": 18,
   "metadata": {},
   "outputs": [
    {
     "data": {
      "text/html": [
       "<div>\n",
       "<style scoped>\n",
       "    .dataframe tbody tr th:only-of-type {\n",
       "        vertical-align: middle;\n",
       "    }\n",
       "\n",
       "    .dataframe tbody tr th {\n",
       "        vertical-align: top;\n",
       "    }\n",
       "\n",
       "    .dataframe thead th {\n",
       "        text-align: right;\n",
       "    }\n",
       "</style>\n",
       "<table border=\"1\" class=\"dataframe\">\n",
       "  <thead>\n",
       "    <tr style=\"text-align: right;\">\n",
       "      <th></th>\n",
       "      <th>userId</th>\n",
       "      <th>platformType</th>\n",
       "    </tr>\n",
       "  </thead>\n",
       "  <tbody>\n",
       "    <tr>\n",
       "      <th>0</th>\n",
       "      <td>170</td>\n",
       "      <td>iphone</td>\n",
       "    </tr>\n",
       "    <tr>\n",
       "      <th>2</th>\n",
       "      <td>835</td>\n",
       "      <td>android</td>\n",
       "    </tr>\n",
       "    <tr>\n",
       "      <th>4</th>\n",
       "      <td>624</td>\n",
       "      <td>iphone</td>\n",
       "    </tr>\n",
       "    <tr>\n",
       "      <th>6</th>\n",
       "      <td>514</td>\n",
       "      <td>windows</td>\n",
       "    </tr>\n",
       "    <tr>\n",
       "      <th>8</th>\n",
       "      <td>2103</td>\n",
       "      <td>iphone</td>\n",
       "    </tr>\n",
       "    <tr>\n",
       "      <th>...</th>\n",
       "      <td>...</td>\n",
       "      <td>...</td>\n",
       "    </tr>\n",
       "    <tr>\n",
       "      <th>9196</th>\n",
       "      <td>424</td>\n",
       "      <td>android</td>\n",
       "    </tr>\n",
       "    <tr>\n",
       "      <th>9226</th>\n",
       "      <td>1299</td>\n",
       "      <td>windows</td>\n",
       "    </tr>\n",
       "    <tr>\n",
       "      <th>9228</th>\n",
       "      <td>1564</td>\n",
       "      <td>iphone</td>\n",
       "    </tr>\n",
       "    <tr>\n",
       "      <th>9246</th>\n",
       "      <td>1228</td>\n",
       "      <td>windows</td>\n",
       "    </tr>\n",
       "    <tr>\n",
       "      <th>9248</th>\n",
       "      <td>981</td>\n",
       "      <td>iphone</td>\n",
       "    </tr>\n",
       "  </tbody>\n",
       "</table>\n",
       "<p>1093 rows × 2 columns</p>\n",
       "</div>"
      ],
      "text/plain": [
       "      userId platformType\n",
       "0        170       iphone\n",
       "2        835      android\n",
       "4        624       iphone\n",
       "6        514      windows\n",
       "8       2103       iphone\n",
       "...      ...          ...\n",
       "9196     424      android\n",
       "9226    1299      windows\n",
       "9228    1564       iphone\n",
       "9246    1228      windows\n",
       "9248     981       iphone\n",
       "\n",
       "[1093 rows x 2 columns]"
      ]
     },
     "execution_count": 18,
     "metadata": {},
     "output_type": "execute_result"
    }
   ],
   "source": [
    "UserPlatform"
   ]
  },
  {
   "cell_type": "code",
   "execution_count": 19,
   "metadata": {},
   "outputs": [
    {
     "data": {
      "text/plain": [
       "platformType\n",
       "android    391\n",
       "iphone     443\n",
       "linux       55\n",
       "mac         52\n",
       "windows    152\n",
       "Name: platformType, dtype: int64"
      ]
     },
     "execution_count": 19,
     "metadata": {},
     "output_type": "execute_result"
    }
   ],
   "source": [
    " UserPlatform.groupby('platformType').platformType.count()"
   ]
  },
  {
   "cell_type": "code",
   "execution_count": 33,
   "metadata": {},
   "outputs": [],
   "source": [
    "df5=UserPlatform.groupby('platformType').platformType.count()"
   ]
  },
  {
   "cell_type": "code",
   "execution_count": 34,
   "metadata": {},
   "outputs": [
    {
     "data": {
      "text/plain": [
       "platformType\n",
       "android    391\n",
       "iphone     443\n",
       "linux       55\n",
       "mac         52\n",
       "windows    152\n",
       "Name: platformType, dtype: int64"
      ]
     },
     "execution_count": 34,
     "metadata": {},
     "output_type": "execute_result"
    }
   ],
   "source": [
    "df5"
   ]
  },
  {
   "cell_type": "code",
   "execution_count": 37,
   "metadata": {},
   "outputs": [],
   "source": [
    "from matplotlib import pyplot "
   ]
  },
  {
   "cell_type": "code",
   "execution_count": 45,
   "metadata": {},
   "outputs": [
    {
     "data": {
      "text/plain": [
       "platformType\n",
       "android    391\n",
       "iphone     443\n",
       "linux       55\n",
       "mac         52\n",
       "windows    152\n",
       "Name: platformType, dtype: int64"
      ]
     },
     "execution_count": 45,
     "metadata": {},
     "output_type": "execute_result"
    }
   ],
   "source": [
    "df5"
   ]
  },
  {
   "cell_type": "code",
   "execution_count": 53,
   "metadata": {},
   "outputs": [
    {
     "data": {
      "image/png": "[encoded data removed]",
      "text/plain": [
       "<Figure size 432x288 with 1 Axes>"
      ]
     },
     "metadata": {
      "needs_background": "light"
     },
     "output_type": "display_data"
    }
   ],
   "source": [
    "df = pd.DataFrame({'Platform':['android', 'iphone', 'linux','mac','windows'], 'val':[391, 443, 55, 52, 152]})\n",
    "ax = df.plot.bar(x='Platform', y='val', rot=0)"
   ]
  },
  {
   "cell_type": "code",
   "execution_count": 54,
   "metadata": {},
   "outputs": [],
   "source": [
    "buyclicks = pd.read_csv(\"C:/Data-Attraper le flamand rose/buy-clicks.csv\")"
   ]
  },
  {
   "cell_type": "code",
   "execution_count": 55,
   "metadata": {},
   "outputs": [
    {
     "data": {
      "text/html": [
       "<div>\n",
       "<style scoped>\n",
       "    .dataframe tbody tr th:only-of-type {\n",
       "        vertical-align: middle;\n",
       "    }\n",
       "\n",
       "    .dataframe tbody tr th {\n",
       "        vertical-align: top;\n",
       "    }\n",
       "\n",
       "    .dataframe thead th {\n",
       "        text-align: right;\n",
       "    }\n",
       "</style>\n",
       "<table border=\"1\" class=\"dataframe\">\n",
       "  <thead>\n",
       "    <tr style=\"text-align: right;\">\n",
       "      <th></th>\n",
       "      <th>timestamp</th>\n",
       "      <th>txId</th>\n",
       "      <th>userSessionId</th>\n",
       "      <th>team</th>\n",
       "      <th>userId</th>\n",
       "      <th>buyId</th>\n",
       "      <th>price</th>\n",
       "    </tr>\n",
       "  </thead>\n",
       "  <tbody>\n",
       "    <tr>\n",
       "      <th>0</th>\n",
       "      <td>2016-05-26 15:36:54</td>\n",
       "      <td>6004</td>\n",
       "      <td>5820</td>\n",
       "      <td>9</td>\n",
       "      <td>1300</td>\n",
       "      <td>2</td>\n",
       "      <td>3.0</td>\n",
       "    </tr>\n",
       "    <tr>\n",
       "      <th>1</th>\n",
       "      <td>2016-05-26 15:36:54</td>\n",
       "      <td>6005</td>\n",
       "      <td>5775</td>\n",
       "      <td>35</td>\n",
       "      <td>868</td>\n",
       "      <td>4</td>\n",
       "      <td>10.0</td>\n",
       "    </tr>\n",
       "    <tr>\n",
       "      <th>2</th>\n",
       "      <td>2016-05-26 15:36:54</td>\n",
       "      <td>6006</td>\n",
       "      <td>5679</td>\n",
       "      <td>97</td>\n",
       "      <td>819</td>\n",
       "      <td>5</td>\n",
       "      <td>20.0</td>\n",
       "    </tr>\n",
       "    <tr>\n",
       "      <th>3</th>\n",
       "      <td>2016-05-26 16:36:54</td>\n",
       "      <td>6067</td>\n",
       "      <td>5665</td>\n",
       "      <td>18</td>\n",
       "      <td>121</td>\n",
       "      <td>2</td>\n",
       "      <td>3.0</td>\n",
       "    </tr>\n",
       "    <tr>\n",
       "      <th>4</th>\n",
       "      <td>2016-05-26 17:06:54</td>\n",
       "      <td>6093</td>\n",
       "      <td>5709</td>\n",
       "      <td>11</td>\n",
       "      <td>2222</td>\n",
       "      <td>5</td>\n",
       "      <td>20.0</td>\n",
       "    </tr>\n",
       "    <tr>\n",
       "      <th>...</th>\n",
       "      <td>...</td>\n",
       "      <td>...</td>\n",
       "      <td>...</td>\n",
       "      <td>...</td>\n",
       "      <td>...</td>\n",
       "      <td>...</td>\n",
       "      <td>...</td>\n",
       "    </tr>\n",
       "    <tr>\n",
       "      <th>2942</th>\n",
       "      <td>2016-06-16 10:36:54</td>\n",
       "      <td>39838</td>\n",
       "      <td>34373</td>\n",
       "      <td>35</td>\n",
       "      <td>305</td>\n",
       "      <td>0</td>\n",
       "      <td>1.0</td>\n",
       "    </tr>\n",
       "    <tr>\n",
       "      <th>2943</th>\n",
       "      <td>2016-06-16 10:36:54</td>\n",
       "      <td>39839</td>\n",
       "      <td>37360</td>\n",
       "      <td>168</td>\n",
       "      <td>2016</td>\n",
       "      <td>1</td>\n",
       "      <td>2.0</td>\n",
       "    </tr>\n",
       "    <tr>\n",
       "      <th>2944</th>\n",
       "      <td>2016-06-16 10:36:54</td>\n",
       "      <td>39840</td>\n",
       "      <td>34542</td>\n",
       "      <td>64</td>\n",
       "      <td>68</td>\n",
       "      <td>2</td>\n",
       "      <td>3.0</td>\n",
       "    </tr>\n",
       "    <tr>\n",
       "      <th>2945</th>\n",
       "      <td>2016-06-16 10:36:54</td>\n",
       "      <td>39841</td>\n",
       "      <td>38277</td>\n",
       "      <td>27</td>\n",
       "      <td>667</td>\n",
       "      <td>4</td>\n",
       "      <td>10.0</td>\n",
       "    </tr>\n",
       "    <tr>\n",
       "      <th>2946</th>\n",
       "      <td>2016-06-16 10:36:54</td>\n",
       "      <td>39842</td>\n",
       "      <td>34181</td>\n",
       "      <td>8</td>\n",
       "      <td>464</td>\n",
       "      <td>5</td>\n",
       "      <td>20.0</td>\n",
       "    </tr>\n",
       "  </tbody>\n",
       "</table>\n",
       "<p>2947 rows × 7 columns</p>\n",
       "</div>"
      ],
      "text/plain": [
       "                timestamp   txId  userSessionId  team  userId  buyId  price\n",
       "0     2016-05-26 15:36:54   6004           5820     9    1300      2    3.0\n",
       "1     2016-05-26 15:36:54   6005           5775    35     868      4   10.0\n",
       "2     2016-05-26 15:36:54   6006           5679    97     819      5   20.0\n",
       "3     2016-05-26 16:36:54   6067           5665    18     121      2    3.0\n",
       "4     2016-05-26 17:06:54   6093           5709    11    2222      5   20.0\n",
       "...                   ...    ...            ...   ...     ...    ...    ...\n",
       "2942  2016-06-16 10:36:54  39838          34373    35     305      0    1.0\n",
       "2943  2016-06-16 10:36:54  39839          37360   168    2016      1    2.0\n",
       "2944  2016-06-16 10:36:54  39840          34542    64      68      2    3.0\n",
       "2945  2016-06-16 10:36:54  39841          38277    27     667      4   10.0\n",
       "2946  2016-06-16 10:36:54  39842          34181     8     464      5   20.0\n",
       "\n",
       "[2947 rows x 7 columns]"
      ]
     },
     "execution_count": 55,
     "metadata": {},
     "output_type": "execute_result"
    }
   ],
   "source": [
    "buyclicks"
   ]
  },
  {
   "cell_type": "code",
   "execution_count": 56,
   "metadata": {},
   "outputs": [],
   "source": [
    "df6=buyclicks.groupby('buyId').buyId.count()"
   ]
  },
  {
   "cell_type": "code",
   "execution_count": 57,
   "metadata": {},
   "outputs": [
    {
     "data": {
      "text/plain": [
       "buyId\n",
       "0    592\n",
       "1    269\n",
       "2    714\n",
       "3    337\n",
       "4    425\n",
       "5    610\n",
       "Name: buyId, dtype: int64"
      ]
     },
     "execution_count": 57,
     "metadata": {},
     "output_type": "execute_result"
    }
   ],
   "source": [
    "df6"
   ]
  },
  {
   "cell_type": "code",
   "execution_count": 58,
   "metadata": {},
   "outputs": [
    {
     "data": {
      "image/png": "[encoded data removed]",
      "text/plain": [
       "<Figure size 432x288 with 1 Axes>"
      ]
     },
     "metadata": {
      "needs_background": "light"
     },
     "output_type": "display_data"
    }
   ],
   "source": [
    "df = pd.DataFrame({'Articles':['0', '1', '2','3','4','5'], 'val':[592, 269, 714, 337, 425, 610]})\n",
    "ax = df.plot.bar(x='Articles', y='val', rot=0)"
   ]
  },
  {
   "cell_type": "code",
   "execution_count": 59,
   "metadata": {},
   "outputs": [],
   "source": [
    "df1 = pd.read_csv(\"C:/Data-Attraper le flamand rose/ad-clicks.csv\")"
   ]
  },
  {
   "cell_type": "code",
   "execution_count": 60,
   "metadata": {},
   "outputs": [
    {
     "data": {
      "text/html": [
       "<div>\n",
       "<style scoped>\n",
       "    .dataframe tbody tr th:only-of-type {\n",
       "        vertical-align: middle;\n",
       "    }\n",
       "\n",
       "    .dataframe tbody tr th {\n",
       "        vertical-align: top;\n",
       "    }\n",
       "\n",
       "    .dataframe thead th {\n",
       "        text-align: right;\n",
       "    }\n",
       "</style>\n",
       "<table border=\"1\" class=\"dataframe\">\n",
       "  <thead>\n",
       "    <tr style=\"text-align: right;\">\n",
       "      <th></th>\n",
       "      <th>timestamp</th>\n",
       "      <th>txId</th>\n",
       "      <th>userSessionId</th>\n",
       "      <th>teamId</th>\n",
       "      <th>userId</th>\n",
       "      <th>adId</th>\n",
       "      <th>adCategory</th>\n",
       "    </tr>\n",
       "  </thead>\n",
       "  <tbody>\n",
       "    <tr>\n",
       "      <th>0</th>\n",
       "      <td>2016-05-26 15:13:22</td>\n",
       "      <td>5974</td>\n",
       "      <td>5809</td>\n",
       "      <td>27</td>\n",
       "      <td>611</td>\n",
       "      <td>2</td>\n",
       "      <td>electronics</td>\n",
       "    </tr>\n",
       "    <tr>\n",
       "      <th>1</th>\n",
       "      <td>2016-05-26 15:17:24</td>\n",
       "      <td>5976</td>\n",
       "      <td>5705</td>\n",
       "      <td>18</td>\n",
       "      <td>1874</td>\n",
       "      <td>21</td>\n",
       "      <td>movies</td>\n",
       "    </tr>\n",
       "    <tr>\n",
       "      <th>2</th>\n",
       "      <td>2016-05-26 15:22:52</td>\n",
       "      <td>5978</td>\n",
       "      <td>5791</td>\n",
       "      <td>53</td>\n",
       "      <td>2139</td>\n",
       "      <td>25</td>\n",
       "      <td>computers</td>\n",
       "    </tr>\n",
       "    <tr>\n",
       "      <th>3</th>\n",
       "      <td>2016-05-26 15:22:57</td>\n",
       "      <td>5973</td>\n",
       "      <td>5756</td>\n",
       "      <td>63</td>\n",
       "      <td>212</td>\n",
       "      <td>10</td>\n",
       "      <td>fashion</td>\n",
       "    </tr>\n",
       "    <tr>\n",
       "      <th>4</th>\n",
       "      <td>2016-05-26 15:22:58</td>\n",
       "      <td>5980</td>\n",
       "      <td>5920</td>\n",
       "      <td>9</td>\n",
       "      <td>1027</td>\n",
       "      <td>20</td>\n",
       "      <td>clothing</td>\n",
       "    </tr>\n",
       "    <tr>\n",
       "      <th>...</th>\n",
       "      <td>...</td>\n",
       "      <td>...</td>\n",
       "      <td>...</td>\n",
       "      <td>...</td>\n",
       "      <td>...</td>\n",
       "      <td>...</td>\n",
       "      <td>...</td>\n",
       "    </tr>\n",
       "    <tr>\n",
       "      <th>16318</th>\n",
       "      <td>2016-06-16 11:04:02</td>\n",
       "      <td>39800</td>\n",
       "      <td>34697</td>\n",
       "      <td>82</td>\n",
       "      <td>1214</td>\n",
       "      <td>16</td>\n",
       "      <td>clothing</td>\n",
       "    </tr>\n",
       "    <tr>\n",
       "      <th>16319</th>\n",
       "      <td>2016-06-16 11:04:05</td>\n",
       "      <td>39807</td>\n",
       "      <td>34673</td>\n",
       "      <td>77</td>\n",
       "      <td>751</td>\n",
       "      <td>23</td>\n",
       "      <td>fashion</td>\n",
       "    </tr>\n",
       "    <tr>\n",
       "      <th>16320</th>\n",
       "      <td>2016-06-16 11:04:12</td>\n",
       "      <td>39832</td>\n",
       "      <td>34262</td>\n",
       "      <td>18</td>\n",
       "      <td>1328</td>\n",
       "      <td>11</td>\n",
       "      <td>games</td>\n",
       "    </tr>\n",
       "    <tr>\n",
       "      <th>16321</th>\n",
       "      <td>2016-06-16 11:04:33</td>\n",
       "      <td>39794</td>\n",
       "      <td>34287</td>\n",
       "      <td>22</td>\n",
       "      <td>415</td>\n",
       "      <td>15</td>\n",
       "      <td>sports</td>\n",
       "    </tr>\n",
       "    <tr>\n",
       "      <th>16322</th>\n",
       "      <td>2016-06-16 11:05:29</td>\n",
       "      <td>39802</td>\n",
       "      <td>37360</td>\n",
       "      <td>168</td>\n",
       "      <td>2016</td>\n",
       "      <td>0</td>\n",
       "      <td>sports</td>\n",
       "    </tr>\n",
       "  </tbody>\n",
       "</table>\n",
       "<p>16323 rows × 7 columns</p>\n",
       "</div>"
      ],
      "text/plain": [
       "                 timestamp   txId  userSessionId  teamId  userId  adId  \\\n",
       "0      2016-05-26 15:13:22   5974           5809      27     611     2   \n",
       "1      2016-05-26 15:17:24   5976           5705      18    1874    21   \n",
       "2      2016-05-26 15:22:52   5978           5791      53    2139    25   \n",
       "3      2016-05-26 15:22:57   5973           5756      63     212    10   \n",
       "4      2016-05-26 15:22:58   5980           5920       9    1027    20   \n",
       "...                    ...    ...            ...     ...     ...   ...   \n",
       "16318  2016-06-16 11:04:02  39800          34697      82    1214    16   \n",
       "16319  2016-06-16 11:04:05  39807          34673      77     751    23   \n",
       "16320  2016-06-16 11:04:12  39832          34262      18    1328    11   \n",
       "16321  2016-06-16 11:04:33  39794          34287      22     415    15   \n",
       "16322  2016-06-16 11:05:29  39802          37360     168    2016     0   \n",
       "\n",
       "        adCategory  \n",
       "0      electronics  \n",
       "1           movies  \n",
       "2        computers  \n",
       "3          fashion  \n",
       "4         clothing  \n",
       "...            ...  \n",
       "16318     clothing  \n",
       "16319      fashion  \n",
       "16320        games  \n",
       "16321       sports  \n",
       "16322       sports  \n",
       "\n",
       "[16323 rows x 7 columns]"
      ]
     },
     "execution_count": 60,
     "metadata": {},
     "output_type": "execute_result"
    }
   ],
   "source": [
    "df1"
   ]
  },
  {
   "cell_type": "code",
   "execution_count": 61,
   "metadata": {},
   "outputs": [],
   "source": [
    "df7=df1.groupby('adCategory').adCategory.count()"
   ]
  },
  {
   "cell_type": "code",
   "execution_count": 62,
   "metadata": {},
   "outputs": [
    {
     "data": {
      "text/plain": [
       "adCategory\n",
       "automotive      566\n",
       "clothing       2340\n",
       "computers      2638\n",
       "electronics    1097\n",
       "fashion        1727\n",
       "games          2601\n",
       "hardware       1588\n",
       "movies         1692\n",
       "sports         2074\n",
       "Name: adCategory, dtype: int64"
      ]
     },
     "execution_count": 62,
     "metadata": {},
     "output_type": "execute_result"
    }
   ],
   "source": [
    "df7"
   ]
  },
  {
   "cell_type": "code",
   "execution_count": 66,
   "metadata": {},
   "outputs": [
    {
     "data": {
      "image/png": "[encoded data removed]",
      "text/plain": [
       "<Figure size 432x288 with 1 Axes>"
      ]
     },
     "metadata": {
      "needs_background": "light"
     },
     "output_type": "display_data"
    }
   ],
   "source": [
    "df = pd.DataFrame({'Catégorie':['automotive', 'clothing', 'computers','electronics','fashion','games','hardware','movies','sports'], 'val':[566, 2340, 2638, 1097, 1727, 2601,1588,1692,2074]})\n",
    "ax = df.plot.bar(x='Catégorie', y='val', rot=40)"
   ]
  },
  {
   "cell_type": "code",
   "execution_count": 69,
   "metadata": {},
   "outputs": [],
   "source": [
    "buyclicks = pd.read_csv(\"C:/Data-Attraper le flamand rose/buy-clicks.csv\")"
   ]
  },
  {
   "cell_type": "code",
   "execution_count": 70,
   "metadata": {},
   "outputs": [],
   "source": [
    "df7=buyclicks.groupby('buyId').price.sum()"
   ]
  },
  {
   "cell_type": "code",
   "execution_count": 71,
   "metadata": {},
   "outputs": [
    {
     "data": {
      "text/plain": [
       "buyId\n",
       "0      592.0\n",
       "1      538.0\n",
       "2     2142.0\n",
       "3     1685.0\n",
       "4     4250.0\n",
       "5    12200.0\n",
       "Name: price, dtype: float64"
      ]
     },
     "execution_count": 71,
     "metadata": {},
     "output_type": "execute_result"
    }
   ],
   "source": [
    "df7"
   ]
  },
  {
   "cell_type": "code",
   "execution_count": 73,
   "metadata": {},
   "outputs": [
    {
     "data": {
      "image/png": "[encoded data removed]",
      "text/plain": [
       "<Figure size 432x288 with 1 Axes>"
      ]
     },
     "metadata": {
      "needs_background": "light"
     },
     "output_type": "display_data"
    }
   ],
   "source": [
    "df = pd.DataFrame({'Articles':['0', '1', '2','3','4','5'], 'val':[592, 538, 2142, 1685, 4250, 12200]})\n",
    "ax = df.plot.bar(x='Articles', y='val', rot=20)"
   ]
  },
  {
   "cell_type": "code",
   "execution_count": 74,
   "metadata": {},
   "outputs": [
    {
     "data": {
      "text/html": [
       "<div>\n",
       "<style scoped>\n",
       "    .dataframe tbody tr th:only-of-type {\n",
       "        vertical-align: middle;\n",
       "    }\n",
       "\n",
       "    .dataframe tbody tr th {\n",
       "        vertical-align: top;\n",
       "    }\n",
       "\n",
       "    .dataframe thead th {\n",
       "        text-align: right;\n",
       "    }\n",
       "</style>\n",
       "<table border=\"1\" class=\"dataframe\">\n",
       "  <thead>\n",
       "    <tr style=\"text-align: right;\">\n",
       "      <th></th>\n",
       "      <th>timestamp</th>\n",
       "      <th>txId</th>\n",
       "      <th>userSessionId</th>\n",
       "      <th>team</th>\n",
       "      <th>userId</th>\n",
       "      <th>buyId</th>\n",
       "      <th>price</th>\n",
       "    </tr>\n",
       "  </thead>\n",
       "  <tbody>\n",
       "    <tr>\n",
       "      <th>0</th>\n",
       "      <td>2016-05-26 15:36:54</td>\n",
       "      <td>6004</td>\n",
       "      <td>5820</td>\n",
       "      <td>9</td>\n",
       "      <td>1300</td>\n",
       "      <td>2</td>\n",
       "      <td>3.0</td>\n",
       "    </tr>\n",
       "    <tr>\n",
       "      <th>1</th>\n",
       "      <td>2016-05-26 15:36:54</td>\n",
       "      <td>6005</td>\n",
       "      <td>5775</td>\n",
       "      <td>35</td>\n",
       "      <td>868</td>\n",
       "      <td>4</td>\n",
       "      <td>10.0</td>\n",
       "    </tr>\n",
       "    <tr>\n",
       "      <th>2</th>\n",
       "      <td>2016-05-26 15:36:54</td>\n",
       "      <td>6006</td>\n",
       "      <td>5679</td>\n",
       "      <td>97</td>\n",
       "      <td>819</td>\n",
       "      <td>5</td>\n",
       "      <td>20.0</td>\n",
       "    </tr>\n",
       "    <tr>\n",
       "      <th>3</th>\n",
       "      <td>2016-05-26 16:36:54</td>\n",
       "      <td>6067</td>\n",
       "      <td>5665</td>\n",
       "      <td>18</td>\n",
       "      <td>121</td>\n",
       "      <td>2</td>\n",
       "      <td>3.0</td>\n",
       "    </tr>\n",
       "    <tr>\n",
       "      <th>4</th>\n",
       "      <td>2016-05-26 17:06:54</td>\n",
       "      <td>6093</td>\n",
       "      <td>5709</td>\n",
       "      <td>11</td>\n",
       "      <td>2222</td>\n",
       "      <td>5</td>\n",
       "      <td>20.0</td>\n",
       "    </tr>\n",
       "    <tr>\n",
       "      <th>...</th>\n",
       "      <td>...</td>\n",
       "      <td>...</td>\n",
       "      <td>...</td>\n",
       "      <td>...</td>\n",
       "      <td>...</td>\n",
       "      <td>...</td>\n",
       "      <td>...</td>\n",
       "    </tr>\n",
       "    <tr>\n",
       "      <th>2942</th>\n",
       "      <td>2016-06-16 10:36:54</td>\n",
       "      <td>39838</td>\n",
       "      <td>34373</td>\n",
       "      <td>35</td>\n",
       "      <td>305</td>\n",
       "      <td>0</td>\n",
       "      <td>1.0</td>\n",
       "    </tr>\n",
       "    <tr>\n",
       "      <th>2943</th>\n",
       "      <td>2016-06-16 10:36:54</td>\n",
       "      <td>39839</td>\n",
       "      <td>37360</td>\n",
       "      <td>168</td>\n",
       "      <td>2016</td>\n",
       "      <td>1</td>\n",
       "      <td>2.0</td>\n",
       "    </tr>\n",
       "    <tr>\n",
       "      <th>2944</th>\n",
       "      <td>2016-06-16 10:36:54</td>\n",
       "      <td>39840</td>\n",
       "      <td>34542</td>\n",
       "      <td>64</td>\n",
       "      <td>68</td>\n",
       "      <td>2</td>\n",
       "      <td>3.0</td>\n",
       "    </tr>\n",
       "    <tr>\n",
       "      <th>2945</th>\n",
       "      <td>2016-06-16 10:36:54</td>\n",
       "      <td>39841</td>\n",
       "      <td>38277</td>\n",
       "      <td>27</td>\n",
       "      <td>667</td>\n",
       "      <td>4</td>\n",
       "      <td>10.0</td>\n",
       "    </tr>\n",
       "    <tr>\n",
       "      <th>2946</th>\n",
       "      <td>2016-06-16 10:36:54</td>\n",
       "      <td>39842</td>\n",
       "      <td>34181</td>\n",
       "      <td>8</td>\n",
       "      <td>464</td>\n",
       "      <td>5</td>\n",
       "      <td>20.0</td>\n",
       "    </tr>\n",
       "  </tbody>\n",
       "</table>\n",
       "<p>2947 rows × 7 columns</p>\n",
       "</div>"
      ],
      "text/plain": [
       "                timestamp   txId  userSessionId  team  userId  buyId  price\n",
       "0     2016-05-26 15:36:54   6004           5820     9    1300      2    3.0\n",
       "1     2016-05-26 15:36:54   6005           5775    35     868      4   10.0\n",
       "2     2016-05-26 15:36:54   6006           5679    97     819      5   20.0\n",
       "3     2016-05-26 16:36:54   6067           5665    18     121      2    3.0\n",
       "4     2016-05-26 17:06:54   6093           5709    11    2222      5   20.0\n",
       "...                   ...    ...            ...   ...     ...    ...    ...\n",
       "2942  2016-06-16 10:36:54  39838          34373    35     305      0    1.0\n",
       "2943  2016-06-16 10:36:54  39839          37360   168    2016      1    2.0\n",
       "2944  2016-06-16 10:36:54  39840          34542    64      68      2    3.0\n",
       "2945  2016-06-16 10:36:54  39841          38277    27     667      4   10.0\n",
       "2946  2016-06-16 10:36:54  39842          34181     8     464      5   20.0\n",
       "\n",
       "[2947 rows x 7 columns]"
      ]
     },
     "execution_count": 74,
     "metadata": {},
     "output_type": "execute_result"
    }
   ],
   "source": [
    "buyclicks"
   ]
  },
  {
   "cell_type": "code",
   "execution_count": 97,
   "metadata": {},
   "outputs": [],
   "source": [
    "df9=buyclicks.groupby('userId').price.sum().reset_index()"
   ]
  },
  {
   "cell_type": "code",
   "execution_count": 95,
   "metadata": {},
   "outputs": [
    {
     "data": {
      "text/plain": [
       "20628.0"
      ]
     },
     "execution_count": 95,
     "metadata": {},
     "output_type": "execute_result"
    }
   ],
   "source": [
    "df9"
   ]
  },
  {
   "cell_type": "code",
   "execution_count": 103,
   "metadata": {},
   "outputs": [
    {
     "data": {
      "text/html": [
       "<div>\n",
       "<style scoped>\n",
       "    .dataframe tbody tr th:only-of-type {\n",
       "        vertical-align: middle;\n",
       "    }\n",
       "\n",
       "    .dataframe tbody tr th {\n",
       "        vertical-align: top;\n",
       "    }\n",
       "\n",
       "    .dataframe thead th {\n",
       "        text-align: right;\n",
       "    }\n",
       "</style>\n",
       "<table border=\"1\" class=\"dataframe\">\n",
       "  <thead>\n",
       "    <tr style=\"text-align: right;\">\n",
       "      <th></th>\n",
       "      <th>userId</th>\n",
       "      <th>price</th>\n",
       "    </tr>\n",
       "  </thead>\n",
       "  <tbody>\n",
       "    <tr>\n",
       "      <th>504</th>\n",
       "      <td>2229</td>\n",
       "      <td>223.0</td>\n",
       "    </tr>\n",
       "    <tr>\n",
       "      <th>4</th>\n",
       "      <td>12</td>\n",
       "      <td>215.0</td>\n",
       "    </tr>\n",
       "    <tr>\n",
       "      <th>107</th>\n",
       "      <td>471</td>\n",
       "      <td>202.0</td>\n",
       "    </tr>\n",
       "    <tr>\n",
       "      <th>115</th>\n",
       "      <td>511</td>\n",
       "      <td>200.0</td>\n",
       "    </tr>\n",
       "    <tr>\n",
       "      <th>227</th>\n",
       "      <td>1027</td>\n",
       "      <td>189.0</td>\n",
       "    </tr>\n",
       "    <tr>\n",
       "      <th>282</th>\n",
       "      <td>1260</td>\n",
       "      <td>183.0</td>\n",
       "    </tr>\n",
       "    <tr>\n",
       "      <th>141</th>\n",
       "      <td>670</td>\n",
       "      <td>183.0</td>\n",
       "    </tr>\n",
       "    <tr>\n",
       "      <th>72</th>\n",
       "      <td>352</td>\n",
       "      <td>180.0</td>\n",
       "    </tr>\n",
       "    <tr>\n",
       "      <th>395</th>\n",
       "      <td>1732</td>\n",
       "      <td>172.0</td>\n",
       "    </tr>\n",
       "    <tr>\n",
       "      <th>387</th>\n",
       "      <td>1697</td>\n",
       "      <td>172.0</td>\n",
       "    </tr>\n",
       "  </tbody>\n",
       "</table>\n",
       "</div>"
      ],
      "text/plain": [
       "     userId  price\n",
       "504    2229  223.0\n",
       "4        12  215.0\n",
       "107     471  202.0\n",
       "115     511  200.0\n",
       "227    1027  189.0\n",
       "282    1260  183.0\n",
       "141     670  183.0\n",
       "72      352  180.0\n",
       "395    1732  172.0\n",
       "387    1697  172.0"
      ]
     },
     "execution_count": 103,
     "metadata": {},
     "output_type": "execute_result"
    }
   ],
   "source": [
    "df9.sort_values('price', ascending=False).head(10)\n"
   ]
  },
  {
   "cell_type": "code",
   "execution_count": 5,
   "metadata": {},
   "outputs": [],
   "source": [
    "combineddata = pd.read_csv(\"C:/Data-Attraper le flamand rose/combined-data.csv\")"
   ]
  },
  {
   "cell_type": "code",
   "execution_count": 6,
   "metadata": {},
   "outputs": [
    {
     "name": "stdout",
     "output_type": "stream",
     "text": [
      "Echantillons avec achats : 1411 du total echantillons : 4619\n"
     ]
    }
   ],
   "source": [
    "print('Echantillons avec achats : ' + str(combineddata['avg_price'].count()) + ' du total echantillons : ' + str(combineddata['userId'].count())) \n"
   ]
  },
  {
   "cell_type": "code",
   "execution_count": 7,
   "metadata": {},
   "outputs": [
    {
     "data": {
      "text/plain": [
       "array([[<matplotlib.axes._subplots.AxesSubplot object at 0x000001625DBE13C8>]],\n",
       "      dtype=object)"
      ]
     },
     "execution_count": 7,
     "metadata": {},
     "output_type": "execute_result"
    },
    {
     "data": {
      "image/png": "[encoded data removed]",
      "text/plain": [
       "<Figure size 432x288 with 1 Axes>"
      ]
     },
     "metadata": {
      "needs_background": "light"
     },
     "output_type": "display_data"
    }
   ],
   "source": [
    "from matplotlib import pyplot\n",
    "pd.DataFrame.hist(combineddata[['avg_price']])"
   ]
  },
  {
   "cell_type": "code",
   "execution_count": 11,
   "metadata": {},
   "outputs": [],
   "source": [
    "%matplotlib inline\n",
    "import matplotlib.pyplot as plt\n",
    "import numpy as np \n",
    "import pandas as pd \n",
    "import seaborn as sns"
   ]
  },
  {
   "cell_type": "code",
   "execution_count": 15,
   "metadata": {},
   "outputs": [
    {
     "data": {
      "image/png": "[encoded data removed]",
      "text/plain": [
       "<Figure size 1350x1350 with 2 Axes>"
      ]
     },
     "metadata": {
      "needs_background": "light"
     },
     "output_type": "display_data"
    }
   ],
   "source": [
    "plt.figure(figsize=(15,15), dpi= 90)\n",
    "sns.heatmap(combineddata.corr(), xticklabels=combineddata.corr().columns, yticklabels=combineddata.corr().columns, cmap='RdYlGn', center=0, annot=True)\n",
    "\n",
    "#Présentation \n",
    "plt.title('Correlogramme du jeu mobile', fontsize=22)\n",
    "plt.xticks(fontsize=12)\n",
    "plt.yticks(fontsize=12)\n",
    "plt.show()"
   ]
  },
  {
   "cell_type": "code",
   "execution_count": 16,
   "metadata": {},
   "outputs": [
    {
     "data": {
      "text/html": [
       "<div>\n",
       "<style scoped>\n",
       "    .dataframe tbody tr th:only-of-type {\n",
       "        vertical-align: middle;\n",
       "    }\n",
       "\n",
       "    .dataframe tbody tr th {\n",
       "        vertical-align: top;\n",
       "    }\n",
       "\n",
       "    .dataframe thead th {\n",
       "        text-align: right;\n",
       "    }\n",
       "</style>\n",
       "<table border=\"1\" class=\"dataframe\">\n",
       "  <thead>\n",
       "    <tr style=\"text-align: right;\">\n",
       "      <th></th>\n",
       "      <th>userId</th>\n",
       "      <th>userSessionId</th>\n",
       "      <th>teamLevel</th>\n",
       "      <th>count_gameclicks</th>\n",
       "      <th>count_hits</th>\n",
       "      <th>count_buyId</th>\n",
       "      <th>avg_price</th>\n",
       "    </tr>\n",
       "  </thead>\n",
       "  <tbody>\n",
       "    <tr>\n",
       "      <th>userId</th>\n",
       "      <td>1.000000</td>\n",
       "      <td>0.030163</td>\n",
       "      <td>-0.002158</td>\n",
       "      <td>0.072707</td>\n",
       "      <td>0.073603</td>\n",
       "      <td>-0.045570</td>\n",
       "      <td>-0.015360</td>\n",
       "    </tr>\n",
       "    <tr>\n",
       "      <th>userSessionId</th>\n",
       "      <td>0.030163</td>\n",
       "      <td>1.000000</td>\n",
       "      <td>0.765534</td>\n",
       "      <td>0.216295</td>\n",
       "      <td>0.221440</td>\n",
       "      <td>0.219281</td>\n",
       "      <td>-0.024990</td>\n",
       "    </tr>\n",
       "    <tr>\n",
       "      <th>teamLevel</th>\n",
       "      <td>-0.002158</td>\n",
       "      <td>0.765534</td>\n",
       "      <td>1.000000</td>\n",
       "      <td>-0.080415</td>\n",
       "      <td>-0.058090</td>\n",
       "      <td>0.270753</td>\n",
       "      <td>0.025648</td>\n",
       "    </tr>\n",
       "    <tr>\n",
       "      <th>count_gameclicks</th>\n",
       "      <td>0.072707</td>\n",
       "      <td>0.216295</td>\n",
       "      <td>-0.080415</td>\n",
       "      <td>1.000000</td>\n",
       "      <td>0.959317</td>\n",
       "      <td>-0.010759</td>\n",
       "      <td>-0.030101</td>\n",
       "    </tr>\n",
       "    <tr>\n",
       "      <th>count_hits</th>\n",
       "      <td>0.073603</td>\n",
       "      <td>0.221440</td>\n",
       "      <td>-0.058090</td>\n",
       "      <td>0.959317</td>\n",
       "      <td>1.000000</td>\n",
       "      <td>-0.000002</td>\n",
       "      <td>0.013463</td>\n",
       "    </tr>\n",
       "    <tr>\n",
       "      <th>count_buyId</th>\n",
       "      <td>-0.045570</td>\n",
       "      <td>0.219281</td>\n",
       "      <td>0.270753</td>\n",
       "      <td>-0.010759</td>\n",
       "      <td>-0.000002</td>\n",
       "      <td>1.000000</td>\n",
       "      <td>-0.017451</td>\n",
       "    </tr>\n",
       "    <tr>\n",
       "      <th>avg_price</th>\n",
       "      <td>-0.015360</td>\n",
       "      <td>-0.024990</td>\n",
       "      <td>0.025648</td>\n",
       "      <td>-0.030101</td>\n",
       "      <td>0.013463</td>\n",
       "      <td>-0.017451</td>\n",
       "      <td>1.000000</td>\n",
       "    </tr>\n",
       "  </tbody>\n",
       "</table>\n",
       "</div>"
      ],
      "text/plain": [
       "                    userId  userSessionId  teamLevel  count_gameclicks  \\\n",
       "userId            1.000000       0.030163  -0.002158          0.072707   \n",
       "userSessionId     0.030163       1.000000   0.765534          0.216295   \n",
       "teamLevel        -0.002158       0.765534   1.000000         -0.080415   \n",
       "count_gameclicks  0.072707       0.216295  -0.080415          1.000000   \n",
       "count_hits        0.073603       0.221440  -0.058090          0.959317   \n",
       "count_buyId      -0.045570       0.219281   0.270753         -0.010759   \n",
       "avg_price        -0.015360      -0.024990   0.025648         -0.030101   \n",
       "\n",
       "                  count_hits  count_buyId  avg_price  \n",
       "userId              0.073603    -0.045570  -0.015360  \n",
       "userSessionId       0.221440     0.219281  -0.024990  \n",
       "teamLevel          -0.058090     0.270753   0.025648  \n",
       "count_gameclicks    0.959317    -0.010759  -0.030101  \n",
       "count_hits          1.000000    -0.000002   0.013463  \n",
       "count_buyId        -0.000002     1.000000  -0.017451  \n",
       "avg_price           0.013463    -0.017451   1.000000  "
      ]
     },
     "execution_count": 16,
     "metadata": {},
     "output_type": "execute_result"
    }
   ],
   "source": [
    "correlation = combineddata.corr()\n",
    "correlation"
   ]
  },
  {
   "cell_type": "code",
   "execution_count": 19,
   "metadata": {},
   "outputs": [
    {
     "data": {
      "text/plain": [
       "<seaborn.axisgrid.FacetGrid at 0x1626ae45dc8>"
      ]
     },
     "execution_count": 19,
     "metadata": {},
     "output_type": "execute_result"
    },
    {
     "data": {
      "image/png": "[encoded data removed]",
      "text/plain": [
       "<Figure size 360x360 with 1 Axes>"
      ]
     },
     "metadata": {
      "needs_background": "light"
     },
     "output_type": "display_data"
    }
   ],
   "source": [
    "sns.catplot(x=\"avg_price\",y=\"platformType\",kind='box',data=combineddata)"
   ]
  },
  {
   "cell_type": "code",
   "execution_count": null,
   "metadata": {},
   "outputs": [],
   "source": []
  }
 ],
 "metadata": {
  "kernelspec": {
   "display_name": "Python 3",
   "language": "python",
   "name": "python3"
  },
  "language_info": {
   "codemirror_mode": {
    "name": "ipython",
    "version": 3
   },
   "file_extension": ".py",
   "mimetype": "text/x-python",
   "name": "python",
   "nbconvert_exporter": "python",
   "pygments_lexer": "ipython3",
   "version": "3.7.6"
  }
 },
 "nbformat": 4,
 "nbformat_minor": 4
}
